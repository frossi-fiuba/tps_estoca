{
 "cells": [
  {
   "cell_type": "markdown",
   "metadata": {},
   "source": [
    "***\n",
    "# Trabajo Práctico 1: Demarco-Mendoza-Rossi\n",
    "***"
   ]
  },
  {
   "cell_type": "markdown",
   "metadata": {},
   "source": [
    "${\\quad \\quad \\Large\\textbf{Ganancias de cada etapa}}$\n",
    "\n",
    "$$SNR_1 = \\frac{h^2 \\mathbb{E}[X^2_{1}]}{\\sigma^2} = \\frac{h^2 \\mathbb{E}[X^2_{i+1}]}{\\sigma^2} = \\frac{h^2}{\\sigma^2} \\mathbb{E}\\big[[G_{i+1}(h X_i + W_i)]\\big]^2 = \\frac{h^2}{\\sigma^2} \\big[\\mathbb{E}[(hX_i)^2]+ \\mathbb{E}[2(h \\overbrace{Xi Wi}^{\\text{Xi e Wi ind.}})] + \\mathbb{E}[W^2_i]\\big] = \\frac{h^2}{\\sigma^2} \\big[h^2\\mathbb{E}[X_i^2]+ \\overbrace{2h\\mathbb{E}[(Xi)]\\underbrace{\\mathbb{E}[(Wi)]}_{\\text{ $= 0$}}}^{\\text{ = 0}} + \\mathbb{E}[W^2_i]\\big] =  \\frac{h^2}{\\sigma^2} G^2_{i+1} \\mathbb{E}\\big[h^2 \\xi + \\sigma\\big] = G^2_{i+1} \\frac{1}{\\sigma^2} [h^4\\xi +\\sigma] $$\n",
    "\n",
    "$$SNR_1 = \\frac{h^2 \\xi}{\\sigma}$$\n",
    "\n",
    "$$G_{i+1} = \\sqrt{\\frac{\\xi}{h^2 \\xi + \\sigma^2}}$$"
   ]
  },
  {
   "cell_type": "code",
   "execution_count": null,
   "metadata": {},
   "outputs": [],
   "source": []
  }
 ],
 "metadata": {
  "kernelspec": {
   "display_name": "Python 3",
   "language": "python",
   "name": "python3"
  },
  "language_info": {
   "codemirror_mode": {
    "name": "ipython",
    "version": 3
   },
   "file_extension": ".py",
   "mimetype": "text/x-python",
   "name": "python",
   "nbconvert_exporter": "python",
   "pygments_lexer": "ipython3",
   "version": "3.6.9"
  }
 },
 "nbformat": 4,
 "nbformat_minor": 4
}
