{
 "cells": [
  {
   "cell_type": "markdown",
   "metadata": {},
   "source": [
    "***\n",
    "# Trabajo Práctico 1: Demarco-Mendoza-Rossi\n",
    "***"
   ]
  },
  {
   "cell_type": "markdown",
   "metadata": {},
   "source": [
    "${\\quad \\quad \\Large\\textbf{1. Ganancias de cada etapa}}$\n",
    "\n",
    "$$SNR_1 = \\frac{h^2 \\mathbb{E}[X^2_{1}]}{\\sigma^2} = \\frac{h^2 \\mathbb{E}[X^2_{i+1}]}{\\sigma^2} = \\frac{h^2}{\\sigma^2} \\mathbb{E}\\big[[G_{i+1}(h X_i + W_i)]\\big]^2 = \\frac{h^2}{\\sigma^2} \\big[\\mathbb{E}[(hX_i)^2]+ \\mathbb{E}[2(h \\overbrace{Xi Wi}^{\\text{Xi e Wi ind.}})] + \\mathbb{E}[W^2_i]\\big] = \\frac{h^2}{\\sigma^2} \\big[h^2\\mathbb{E}[X_i^2]+ \\overbrace{2h\\mathbb{E}[(Xi)]\\underbrace{\\mathbb{E}[(Wi)]}_{\\text{ $= 0$}}}^{\\text{ = 0}} + \\mathbb{E}[W^2_i]\\big] =  \\frac{h^2}{\\sigma^2} G^2_{i+1} \\mathbb{E}\\big[h^2 \\xi + \\sigma^2 \\big] = G^2_{i+1} \\frac{1}{\\sigma^2} [h^4\\xi +\\sigma^2] $$\n",
    "\n",
    "$$SNR_1 = \\frac{h^2 \\xi}{\\sigma^2}$$\n",
    "\n",
    "$$G_{i+1} = \\sqrt{\\frac{\\xi}{h^2 \\xi + \\sigma^2}} \\quad \\quad ó \\quad \\quad  G_{i+1} = \\sqrt{\\frac{\\xi}{h^2\\xi + \\sigma^2}} = \\sqrt{\\frac{\\frac{\\xi}{\\sigma^2}}{\\underbrace{\\frac{h^2\\xi}{\\sigma^2}}_{\\text{$SNR_1$}} + 1} } = \\sqrt{\\frac{1}{h^2}\\frac{\\overbrace{\\frac{h^2\\xi}{\\sigma^2}}^{\\text{$SNR_1$}}}{SNR_1 + 1}} = \\frac{1}{h}\\sqrt{\\frac{SNR_1}{SNR_1 + 1}} $$"
   ]
  },
  {
   "cell_type": "markdown",
   "metadata": {},
   "source": [
    "${\\quad \\quad \\Large\\textbf{2.1) Salidas } Y_{n}\\textbf{ en función de } W \\textbf{, } X_1 \\textbf{ y } G}$\n",
    "\n",
    "Comenzando por la definición de $Y_{i} = h X_i + W_i$, con $X_i = G_i Y_{i-1}$, se desarrolla en forma genérica para un cierto $Y_n$, de forma que para $Y_5$ resulte:\n",
    "\n",
    "$$ Y_5 = h \\left(  G_5(h (G_4(h (G_3(h G_2(h X_1 + W_1) + W_2) + W_3) + W_4) + W_5 \\right) $$\n",
    "\n",
    "Que reescrito en una forma mas útil es:\n",
    "\n",
    "$$ Y_5 = X_1 h^5 G_2 G_3 G_4 G_5 + \\left[  W_1 (G_2 G_3 G_4 G_5) h^4 + W_2 (G_3 G_4 G_5) h^3 + W_3 (G_4 G_5) h^2 + W_4 (G_5) h + W_5 \\right]  $$\n",
    "\n",
    "De una forma genérica se puede expresar:\n",
    "\n",
    "$$ Y_{i} = X_{1} h^{i} \\prod_{k=2}^{i} G_{k} + \\underbrace{\\sum_{j=1}^{i} \\left[ h^{(i-j)} W_{j+1}  \\prod_{k=j+1}^{i} G_{k} \\right]}_{\\phi_{i}} $$\n",
    "\n",
    "Las distribucion de los terminos asociados al ruido ($\\phi_{i}$) es una normal, con media y varianza tal que:\n",
    "\n",
    "$$  \\phi_{i} \\sim \\mathcal{N}\\left( 0,~ \\sum_{j=1}^{i} \\left[ \\sigma^2 h^{2(i-j)} \\prod_{k=j+1}^{i} G_{k}^{2} \\right] \\right) $$"
   ]
  },
  {
   "cell_type": "markdown",
   "metadata": {},
   "source": [
    "${\\quad \\quad \\Large\\textbf{2.2) Relacion señal ruido de la ultima etapa } \\rho_{n}} $\n",
    "\n",
    "Considerando que en la ultima etapa la señal es:\n",
    "\n",
    "$$ Y_{n} = \\underbrace{X_{1} h^{n} \\prod_{k=2}^{n} G_{k}}_{\\chi_{n}} + \\underbrace{\\sum_{j=1}^{n} \\left[ h^{(n-j)} W_{j+1}  \\prod_{k=j+1}^{n} G_{k} \\right]}_{\\phi_{n}} $$\n",
    "\n",
    "Se aisla la parte de señal útil y la parte de ruido, dividiendose la auto-correlación de cada una para obtener la SNR$_{n}$\n",
    "\n",
    "$$ \\text{SNR}_{n} = \\frac{\\mathbb{E}[\\chi_{n}^{2}]}{\\mathbb{E}[\\phi_{n}^{2}]} = \\frac{\\xi h^{2n} \\prod_{k=2}^{n} G_{k}^{2}}{\\sum_{j=1}^{n} \\left[ \\sigma^2 h^{2(n-j)} \\prod_{k=j+1}^{n} G_{k}^{2} \\right]} = \\overbrace{\\frac{\\xi h^2}{\\sigma^2}}^{\\text{SNR}_1} \\frac{ h^{2n-2} \\prod_{k=2}^{n} G_{k}^{2}}{\\sum_{j=1}^{n} \\left[ h^{2(n-j)} \\prod_{k=j+1}^{n} G_{k}^{2} \\right]} $$"
   ]
  },
  {
   "cell_type": "code",
   "execution_count": 0,
   "metadata": {},
   "outputs": [],
   "source": []
  }
 ],
 "metadata": {
  "kernelspec": {
   "display_name": "Python 3",
   "language": "python",
   "name": "python3"
  },
  "language_info": {
   "codemirror_mode": {
    "name": "ipython",
    "version": 3
   },
   "file_extension": ".py",
   "mimetype": "text/x-python",
   "name": "python",
   "nbconvert_exporter": "python",
   "pygments_lexer": "ipython3",
   "version": "3.8.2"
  }
 },
 "nbformat": 4,
 "nbformat_minor": 4
}
