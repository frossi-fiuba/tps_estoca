{
 "cells": [
  {
   "cell_type": "markdown",
   "metadata": {},
   "source": [
    "# TP de Simulación 1: Repetidor Analógico vs Repetidor Digital\n",
    "\n",
    "En este TP se pretende analizar dos esquemas de comunicación: en uno se utilizan repetidores digitales y en el otro se utilizan repetidores analógicos. En ambos casos se quiere transmitir símbolos que representan 1 bit. Si el bit a enviar es $1$, el símbolo asociado es $X_1 = A$; si en cambio se quiere transmitir el bit $0$, el símbolo es $X_1 = −A$, donde $A > 0$. Es decir, la información transmitida se puede modelar como una variable aleatoria discreta de soporte $\\{A, −A\\}$. Asumiremos que ambos símbolos tienen probabilidad $1/2$.\n",
    "\n",
    "Ambos sistemas de comunicaciones tienen $n$ etapas en cascada, es decir, hay $n − 1$ repetidores. En cada etapa, los símbolos se envían a través de un canal de comunicaciones que puede ser modelado por un factor de atenuación $h$ y por la adición de ruido $W_i$ , $i = 1, \\dots , n$. Asumiremos que la distribución de este ruido es gaussiana de media nula y varianza $\\sigma^{2}$ para cada canal, es decir, $W_i \\sim \\mathcal{N}(0, \\sigma^2)$, y que los ruidos de distintas etapas son independientes. La diferencia entre ambos repetidores es la manera de procesar el símbolo recibido $Y_i$."
   ]
  },
  {
   "cell_type": "markdown",
   "metadata": {},
   "source": [
    "# Explicación\n",
    "Vamos a representar la información transmitida como una VA discreta con soporte $\\{-A,A\\}$ y probabilidad $1/2$ de enviar cada símbolo.\n",
    "Cada repetidor consta de $n$ etapas, es decir, hay $1$ transmisor y $n-1$ repetidores.\n",
    "Para representar los canales de comunicaciones (entre repetidores) usamos: \n",
    "\n",
    "1. Factor de atenuación $h$ constante e igual para todos los canales, y \n",
    "2. Ruido aditivo gaussiano $\\{W_{i}\\}_{i\\in\\mathbb{N}}$ con $W_i \\sim \\mathcal{N}(0,\\sigma^2)$ y las $W_{i}$ son iid, es decir, los ruidos en todos los canales son VA independientes e idénticamente distribuídas.\n",
    "\n",
    "El transmisor transmite un símbolo:\n",
    "\n",
    "$$\n",
    "X_1 = \\left\\{\\begin{array}{ll}\n",
    "        A & \\textrm{con } p = 1/2\\\\\n",
    "        -A & \\textrm{con } p=1/2\n",
    "      \\end{array}\\right.\n",
    "$$\n",
    "\n",
    "El objetivo es comparar los dos tipos de repetidores."
   ]
  },
  {
   "cell_type": "markdown",
   "metadata": {},
   "source": [
    "# Repetidor Analógico\n",
    "\n",
    "<img src=\"repetidor_analog.png\">\n",
    "\n",
    "A la entrada del primer repetidor tenemos la VA enviada $X_{1}$ multiplicada por la atenuación del canal $h$ y a la que sumamos el ruido presente en el canal $W_{1}$: $Y_{1} = X_{1}\\,h + W_{1}$. A la salida del primer repetidor amplificamos la señal recibida: $X_{2} = G_{2}\\,Y_{1}$, donde $G_2$ es la ganancia del repetidor. Notemos que se amplifica tanto a la señal: $(X_{1}\\,h)$, como al ruido: $W_{1}$.\n",
    "\n",
    "El último bloque es el receptor y es donde se decide si el símbolo que se envió fue $A$ o $-A$. La regla de decisión es:\n",
    "\n",
    "$$\n",
    "\\hat{X}_{1} = \\left\\{\\begin{array}{ll}\n",
    "         A & \\textrm{si } Y_{n} \\geq 0\\\\\n",
    "        -A & \\textrm{si } Y_{n} < 0\n",
    "      \\end{array}\\right.\n",
    "$$"
   ]
  },
  {
   "cell_type": "markdown",
   "metadata": {},
   "source": [
    "# Repetidor Digital\n",
    "\n",
    "<img src=\"repetidor_digital.png\">\n",
    "\n",
    "A diferencia del caso analógico, en el caso digital en cada repetidor se decide si el símbolo que llega es $A$ o $-A$:\n",
    "\n",
    "$$\n",
    "\\begin{aligned}\n",
    "Y_{i} \\geq 0 &\\rightarrow X_{i+1} = A\\\\\n",
    "Y_{i} < 0 &\\rightarrow X_{i+1} = -A\n",
    "\\end{aligned}\n",
    "$$\n",
    "\n",
    "Por esta razón la SNR a la entrada de cada repetidor digital es constante, es decir, no se degrada la señal. Por otro lado, cada repetidor digital se puede equivocar, y en ese caso si se producen cantidad par de errores estos se podrían llegar a _cancelar_."
   ]
  },
  {
   "cell_type": "markdown",
   "metadata": {},
   "source": [
    "# Energía\n",
    "La energía promedio de un símbolo, o del ruido, se define como la varianza de la VA asociada. Es decir, la energía primedio del símbolo transmitido es: $\\mathbb{E} \\left[X_{i}^{2}\\right]$ o $\\mathbb{E}\\left[Y_{i}^{2}\\right]$ (_¿por qué vale esto?¿cuánto vale $\\mathbb{E} \\left[X_{i}\\right]$ y $\\mathbb{E} \\left[Y_{i}\\right]$?_). \n",
    "\n",
    "En este TP se impone como condición que tanto el bloque $Tx$ como los $G_{i}$ transmitan con una energía promedio $\\xi$ (con $\\xi$ constante):\n",
    "\n",
    "$$\n",
    "\\mathbb{E}\\left[X_{i}^{2}\\right] \\leq \\xi \\qquad \\forall i \\in[1,n]\n",
    "$$\n",
    "\n",
    "De hecho, para todos los cálculos vamos a considerar a condición más favorable: $\\mathbb{E}\\left[X_{i}^{2}\\right] = \\xi$ para todo $i$."
   ]
  },
  {
   "cell_type": "markdown",
   "metadata": {},
   "source": [
    "# Relación Señal a Ruido (SNR)\n",
    "Definimos la relación señal a ruido (SNR) como el cociente entre la energía de la señal de interés y la energía (varianza) del ruido:\n",
    "\n",
    "$$\n",
    "SNR = \\frac{\\textrm{Energía de la señal de interés}}{\\textrm{Energía del ruido}}\n",
    "$$\n",
    "\n",
    "$$\n",
    "SNR_{1} = \\frac{\\mathbb{E}[(h\\,X_1)^2]}{\\mathbb{E}[(W_1)^2]} = \\frac{h^2\\,\\mathbb{E}[(X_1)^2]}{\\sigma^2}  = \\frac{h^2\\,\\xi}{\\sigma^2}\n",
    "$$"
   ]
  },
  {
   "cell_type": "markdown",
   "metadata": {},
   "source": [
    "# Ejercicio 1: Cálculo de ganancia de los repetidores analógicos\n",
    "\n",
    "Asuma que cada repetidor analógico puede transmitir como máximo con una energía promedio $\\xi$. Determine el valor de $A$ y las ganancias $G_{2},\\dots,G_{n}$ para satisfacer ese requisito.\n",
    "\n",
    "Exprese las ganancias en función de la relación señal a ruido a la salida del primer repetidor:\n",
    "\n",
    "$$\n",
    "SNR_{1} = h^{2}\\,\\xi/\\sigma^{2}\n",
    "$$"
   ]
  },
  {
   "cell_type": "markdown",
   "metadata": {},
   "source": [
    "# Idea\n",
    "\n",
    "Primero necesitamos hallar la energía del símbolo transimitido, es decir, $\\mathbb{E}\\left[X_{1}^2\\right]$. Sabemos que $X_{1}$ es una VA discreta (tipo Bernoulli):\n",
    "\n",
    "$$\n",
    "X_{1} = \\left\\{\\begin{array}{ll}\n",
    "        A & \\textrm{con } p = 1/2\\\\\n",
    "        -A & \\textrm{con } p=1/2\n",
    "      \\end{array}\\right.\n",
    "$$\n",
    "\n",
    "Entonces: \n",
    "$$\n",
    "\\begin{aligned}\n",
    "\\mathbb{E}\\left[X_{1}^2\\right] &= A^{2} \\, \\mathbb{P}\\left[X_{1} = A\\right] + (-A)^{2} \\, \\mathbb{P}\\left[X_{1} = -A\\right]\\\\\n",
    "&= A^{2} \\, \\frac{1}{2} + (-A)^{2} \\, \\frac{1}{2} \\\\\n",
    "&= A^{2}\n",
    "\\end{aligned}\n",
    "$$\n",
    "\n",
    "luego por la condición sobre la energía: $A^{2} \\leq \\xi$, y en la condición más favorable: $A^{2} = \\xi$. Entonces con esto determinamos el valor de $A = \\sqrt{\\xi}$. \n",
    "\n",
    "Luego a la salida de cada repetidor planteamos: $\\mathbb{E}\\left[X_{i}^2\\right] = \\xi$. Juntamos esto último con las ecuaciones para el repetidor analógico:\n",
    "\n",
    "$$\n",
    "\\left.\\begin{array}{l}\n",
    "        Y_{i} = h\\,X_{i} + W_{i}\\\\\n",
    "        X_{i+1} = G_{i+1}\\,Y_{i}\n",
    "      \\end{array}\\right\\} \\Rightarrow X_{i+1} = G_{i+1}\\,\\big(h\\,X_{i} + W_{i}\\big) \\wedge \\mathbb{E}\\left[X_{i+1}^2\\right] = \\xi\n",
    "$$\n",
    "\n",
    "Planteando esto para cada $i$ ya tenemos una forma de obtener $G_{i}$. Ahora tenemos que relacionarlo con la SNR a la salida de cada repetidor. A la salida del primer repetidor tenemos:\n",
    "$$\n",
    "Y_{1} = \\underbrace{h\\, X_{1}}_{señal} + \\underbrace{W_{1}}_{ruido} \\Rightarrow SNR_{1} = \\frac{\\mathbb{E}\\left[(h\\,X_{1})^{2}\\right]}{\\mathbb{E}\\left[W_{1}^{2}\\right]} =  \\frac{h^{2} \\, \\mathbb{E}\\left[X_{1}^{2}\\right]}{\\sigma^{2}} \n",
    "$$\n",
    "donde $h$ sale de la esperanza porque es una constante. Con esta expresión de SNR$_{1}$ podemos expresar todas las $G_{i}$."
   ]
  },
  {
   "cell_type": "markdown",
   "metadata": {},
   "source": [
    "# Ejercicio 2: Probabilidad de error del sistema analógico\n",
    "\n",
    "1. Exprese $Y_{n}$ en función de $X_{1}$, las ganancias y los ruidos $W_{1},\\dots,W_{n}$. ¿Qué distribución tiene los términos asociados sólo al ruido?\n",
    "2. Calcule la relación señal a ruido en la última etapa $\\rho_{n}$.\n",
    "3. Calcule la probabilidad de error promedio en función de la SNR de la última etapa $\\rho_{n}$."
   ]
  },
  {
   "cell_type": "markdown",
   "metadata": {},
   "source": [
    "# Idea\n",
    "\n",
    "Queremos obtener la expresión de $Y_n$ a la entrada del último bloque, y será algo como:\n",
    "\n",
    "$$\n",
    "Y_n = \\alpha\\big(h,G_{1},\\dots,G_{n}\\big)\\, \\underbrace{X_{1}}_{\\textrm{VA discreta}} + \\sum_{j}\\, \\beta_{j}\\big(h,G_{1},\\dots,G_{n}\\big)\\,\\underbrace{W_{j}}_{\\textrm{VA Gaussianas iid}}\n",
    "$$\n",
    "\n",
    "Podemos ver que el primer sumando es una función de una VA discreta (tipo Bernoulli). Por otro lado, el segundo sumando es una combinación lineal de gaussianas y por lo tanto es una gaussiana. Entonces, tenemos una suma de una VA discreta y una VA continua, es decir, $Y_{n}$ es una mezcla.\n",
    "\n",
    "Si condicionamos $Y_{n}$ a los valores que puede tomar $X_{1}$ vamos a tener dos gaussianas:\n",
    "\n",
    "$$\n",
    "\\left.\\begin{array}{l}\n",
    "Y_{n} |_{X_{1}=A} \\sim \\mathcal{N}(\\alpha\\,A,\\star) \\\\\n",
    "Y_{n} |_{X_{1}=-A} \\sim \\mathcal{N}(-\\alpha\\,A,\\diamond) \n",
    "\\end{array} \\right\\} \\Rightarrow f_{Y_{n}}(y_{n}) = f_{Y_{n}|X_{1}=A} (y_{n})\\,\\mathbb{P}\\left[X_{1} = A\\right] + f_{Y_{n}|X_{1}=-A} (y_{n})\\,\\mathbb{P}\\left[X_{1} = -A\\right]\n",
    "$$\n",
    "\n",
    "Definimos como _evento de error_ cuando se transmite un símbolo $x_{1}$ y se detecta $\\hat{x}_{1} \\neq x_{1}$:\n",
    "\n",
    "$$\n",
    "\\begin{aligned}\n",
    "\\mathbb{P}_{e} &= \\mathbb{P}\\left[\\hat{X}_{1} \\neq X_{1}\\right]\\\\ \n",
    "&= \\mathbb{P}\\left[\\hat{X}_{1} \\neq X_{1} |_{X_{1} = A}\\right]\\, \\mathbb{P}\\left[X_{1} = A\\right] + \\mathbb{P}\\left[\\hat{X}_{1} \\neq X_{1} |_{X_{1} = -A}\\right]\\, \\mathbb{P}\\left[X_{1} = -A\\right]\\\\\n",
    "&= \\mathbb{P}\\left[Y_{n} < 0 |_{X_{1} = A}\\right]\\, \\mathbb{P}\\left[X_{1} = A\\right] + \\mathbb{P}\\left[Y_{n} \\geq 0 |_{X_{1} = -A}\\right]\\, \\mathbb{P}\\left[X_{1} = -A\\right]\n",
    "\\end{aligned}\n",
    "$$\n",
    "\n",
    "Entre el anteúltimo y el último paso incluimos la regla de decisión para el caso del repetidor analógico.\n",
    "\n",
    "A partir del desarrollo en el Ejercicio 1, pueden desarrollar una expresión para escribir la SNR$_{n}$ o $\\rho_{n}$ en función de la SNR$_{1}$.\n"
   ]
  },
  {
   "cell_type": "markdown",
   "metadata": {},
   "source": [
    "# Ejercicio 3: Probabilidad de error del sistema digital\n",
    "Para el sistema de comunicaciones digital es posible demostrar la probabilidad de error es:\n",
    "\n",
    "$$\n",
    "P_{e,n}^{d} = \\frac{1}{2} \\Big(1-\\Big(1-2\\,Q\\Big(\\sqrt{SNR}\\Big)\\Big)^{n}\\Big)\n",
    "$$\n",
    "\n",
    "donde Q es la denominada función Q.\n",
    "\n",
    "1. Grafique en una misma figura las probabilidades de error del sistema digital y del sistema analógico en función de la SNR, con SNR $\\in \\left[−5, 30\\right]$ dB (con pasos de $1$ dB). Grafique dichas curvas para $n \\in \\left[1, 25\\right]$ (con pasos de $4$) todas en el mismo gráfico. Utilice escala logarítmica para $P_{e,n}$ y muestre sólo el rango $\\left[10^{0}, 10^{−6}\\right]$ y escala en dB para la SNR.\n",
    "2. Determine gráficamente para cada $n$ la SNR para la cual ambas probabilidades de error coinciden. ¿Qué sistema elegiría en función de la SNR y de $n$? Extraiga conclusiones.\n",
    "3. [_Opcional, por crédito extra_] Demuestre la fórmula de error del repetidor digital.\n",
    "_Sugerencia:_ plantee una relación de recurrencia asociada a la probabilidad de error."
   ]
  },
  {
   "cell_type": "markdown",
   "metadata": {},
   "source": [
    "# Idea\n",
    "\n",
    "Dada la expresión de la probabilidad de error para el caso analógico $\\mathbb{P}_{e}^{a} = f(SNR_{n}) = f(\\rho_{n})$ obtenida en el punto anterior, y la digital $\\mathbb{P}_{e}^{d} = g(SNR_{n})$, ambas en función de la SNR, graficarlas en un mismo gráfico semilogarítmico. Al ser la SNR un cociente de energías, para convertirlas de dB a veces tenemos que usar: $SNR = 10^{(SNR_{dB}/10)}$ o sea $SNR_{dB} = 10\\,\\log_{10}(SNR)$.\n",
    "\n",
    "Es importante resaltar que la SNR en el eje X corresponde a la SNR$_{1}$ a la salida del primer repetidor. Para el caso digital la SNR es la misma a la salida de cada repetidor. En cambio para el caso analógico, a medida que se avanza en los repetidores se suma más ruido y decae la SNR. En el Ejercicio 2 obtuvimos una expresión para calcular $\\rho_{n}$ a partir del valor de la SNR$_{1}$. Luego con ese valor de $\\rho_{n}$ se calcula la $\\mathbb{P}_{e}^{a}$."
   ]
  },
  {
   "cell_type": "markdown",
   "metadata": {},
   "source": [
    "# Ejercicio 4: Simulación Monte Carlo de las probabilidades de error\n",
    "\n",
    "1. Realice un simulación Monte Carlo de ambos sistemas y calcule la probabilidad de error promedio para SNR $\\in \\left[5, 25\\right]$ dB y $n = 9$. Grafique las curvas y compare los resultados con los resultados teóricos. Indique la cantidad de realizaciones MonteCarlo utilizadas para conseguir una buena estimación.\n",
    "2. Justifique por qué las curvas de probabilidad de error simuladas en el punto anterior deberían ser muy cercanas (“estar pegadas”) a las curvas teóricas vistas anteriormente.\n",
    "3. Para el sistema analógico, grafique las pdfs de la señal recibida en la última etapa $Y_{n}$ condicionada al símbolo transmitido $f_{Y_{n}|X_{1}=A}$ y $f_{Y_{n}|X_{1}=−A}$. En la misma figura, grafique las estimaciones de las densidades obtenidas mediante el histograma normalizado. Señale en el gráfico cuáles son los eventos de error para cada símbolo."
   ]
  },
  {
   "cell_type": "markdown",
   "metadata": {},
   "source": [
    "# Idea\n",
    "\n",
    "Queremos usar la simulación por MonteCarlo para estimar la $\\mathbb{P}_{e}$. Para esto necesitamos escribir esta probabilidad como una esperanza:\n",
    "\n",
    "$$\n",
    "\\mathbb{P}_{e} = \\mathbb{P}\\left[\\hat{X}_{1} \\neq X_{1} \\right] = \\mathbb{E}\\Big[\\mathbb{1}\\left[\\hat{X}_{1} \\neq X_{1}\\right] \\Big]\n",
    "$$\n",
    "\n",
    "donde $\\mathbb{1}\\left[.\\right]$ es la función indicadora que devuelve $1$ ó $0$.\n",
    "\n",
    "Tenemos que generar $k$ ensayos para luego usar alguna de las leyes de los grandes números (LGN). Entonces generamos $k$ realizaciones de la VA $X_{1}$: $x_{1}^{(1)}, \\dots, x_{1}^{(k)}$ que son iid y van a tomar valores $A$ o $-A$. Para cada una de estas realizaciones generamos $n$ realizaciones de los ruidos: $w_{1}^{i}, \\dots, w_{n}^{i}$, donde $n$ es la cantidad de repetidores. Luego con esto implementamos los repetidores. Para los $k$ conjuntos de realizaciones obtenemos $\\hat{x}_{1}^{(i)}$:\n",
    "\n",
    "$$\n",
    "\\left.\\begin{array}{l}\n",
    "x_{1}^{(1)},w_{1}^{(1)},\\dots,w_{n}^{(1)} \\rightarrow \\hat{x}_{1}^{(1)}\\\\\n",
    "\\vdots\\\\\n",
    "x_{1}^{(k)},w_{1}^{(k)},\\dots,w_{n}^{(k)} \\rightarrow \\hat{x}_{1}^{(k)}\n",
    "\\end{array}\\right\\} \\Rightarrow \\frac{1}{k} \\sum_{i=1}^{k} \\mathbb{1}\\Big[\\hat{x}_{1}^{i} \\neq x_{1}^{i} \\Big]  \\xrightarrow[k \\to \\infty]{LGN} \\mathbb{P}_{e}\n",
    "$$\n",
    "\n",
    "Esto lo van a tener que repetir para cada valor de la SNR. Dado un valor de SNR y fijando un valor de $h$ y $A$ pueden obtener el valor de $\\sigma^2$ para el ruido."
   ]
  }
 ],
 "metadata": {
  "kernelspec": {
   "display_name": "Python 3",
   "language": "python",
   "name": "python3"
  },
  "language_info": {
   "codemirror_mode": {
    "name": "ipython",
    "version": 3
   },
   "file_extension": ".py",
   "mimetype": "text/x-python",
   "name": "python",
   "nbconvert_exporter": "python",
   "pygments_lexer": "ipython3",
   "version": "3.6.9"
  }
 },
 "nbformat": 4,
 "nbformat_minor": 2
}
